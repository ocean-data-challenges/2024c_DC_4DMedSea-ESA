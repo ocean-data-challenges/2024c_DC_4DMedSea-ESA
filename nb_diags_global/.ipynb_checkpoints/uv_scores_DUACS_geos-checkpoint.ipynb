{
 "cells": [
  {
   "cell_type": "markdown",
   "id": "36f55bda",
   "metadata": {},
   "source": [
    "![header](../figures/logos_partenaires._cmems_se.jpg)"
   ]
  },
  {
   "cell_type": "markdown",
   "id": "e1f5579f",
   "metadata": {},
   "source": [
    "# Benchmark DUACS geostrophic currents maps\n",
    "\n",
    "<div style=\"text-align: right\"><i> 2023-04-27 MIOST_UV_BENCHMARK_DEMO </i></div>\n",
    "\n",
    "***\n",
    "**Authors:**  CLS & Datlas <br>\n",
    "**Copyright:** 2023 CLS & Datlas <br>\n",
    "**License:** MIT\n",
    "\n",
    "<div class=\"alert alert-block alert-success\">\n",
    "<h1><center>Benchmark of DUACS geostrophic currents maps</center></h1>\n",
    " <h5> The notebook aims to evaluate the surface current maps produced by the DUACS system.</h5>\n",
    "    <h5> These maps are equivalent to the SEALEVEL_GLO_PHY_L4_MY_008_047 product distributed by the Copernicus Marine Service, except that a nadir altimeter (SARAL/Altika, SEALEVEL_GLO_PHY_L3_MY_008_062 product) has been excluded from the mapping. </h5>\n",
    "        <h5> We provide below a demonstration of the validation of these maps against the current data from the drifters database distributed by CMEMS (INSITU_GLO_PHY_UV_DISCRETE_MY_013_044 product) </h5>\n",
    "</div>"
   ]
  },
  {
   "cell_type": "markdown",
   "id": "7d91d5b2",
   "metadata": {},
   "source": [
    "***\n",
    "**General Note 1**: Execute each cell through the <button class=\"btn btn-default btn-xs\"><i class=\"icon-play fa fa-play\"></i></button> button from the top MENU (or keyboard shortcut `Shift` + `Enter`).<br>\n",
    "<br>\n",
    "**General Note 2**: If, for any reason, the kernel is not working anymore, in the top MENU, click on the <button class=\"btn btn-default btn-xs\"><i class=\"fa fa-repeat icon-repeat\"></i></button> button. Then, in the top MENU, click on \"Cell\" and select \"Run All Above Selected Cell\".<br>\n",
    "***\n",
    "\n",
    "\n",
    "<div class=\"alert alert-danger\" role=\"alert\">\n",
    "\n",
    "<h3>Learning outcomes</h3>\n",
    "\n",
    "At the end of this notebook you will know:\n",
    "<ul>\n",
    "  <li>How you can evaluated Sea surface currents maps with drifters database: statistical and spectral analysis</li>\n",
    "</ul>\n",
    "    \n",
    "</div>"
   ]
  },
  {
   "cell_type": "code",
   "execution_count": 1,
   "id": "09a4a71d",
   "metadata": {},
   "outputs": [],
   "source": [
    "from glob import glob\n",
    "import numpy as np\n",
    "import os\n",
    "import warnings\n",
    "warnings.filterwarnings(\"ignore\")"
   ]
  },
  {
   "cell_type": "code",
   "execution_count": 2,
   "id": "3e45b6d9",
   "metadata": {},
   "outputs": [
    {
     "ename": "KeyboardInterrupt",
     "evalue": "",
     "output_type": "error",
     "traceback": [
      "\u001b[0;31m---------------------------------------------------------------------------\u001b[0m",
      "\u001b[0;31mKeyboardInterrupt\u001b[0m                         Traceback (most recent call last)",
      "Cell \u001b[0;32mIn[2], line 3\u001b[0m\n\u001b[1;32m      1\u001b[0m \u001b[38;5;28;01mimport\u001b[39;00m \u001b[38;5;21;01msys\u001b[39;00m\n\u001b[1;32m      2\u001b[0m sys\u001b[38;5;241m.\u001b[39mpath\u001b[38;5;241m.\u001b[39mappend(\u001b[38;5;124m'\u001b[39m\u001b[38;5;124m..\u001b[39m\u001b[38;5;124m'\u001b[39m)\n\u001b[0;32m----> 3\u001b[0m \u001b[38;5;28;01mfrom\u001b[39;00m \u001b[38;5;21;01msrc\u001b[39;00m\u001b[38;5;21;01m.\u001b[39;00m\u001b[38;5;21;01mmod_plot\u001b[39;00m \u001b[38;5;28;01mimport\u001b[39;00m \u001b[38;5;241m*\u001b[39m\n\u001b[1;32m      4\u001b[0m \u001b[38;5;28;01mfrom\u001b[39;00m \u001b[38;5;21;01msrc\u001b[39;00m\u001b[38;5;21;01m.\u001b[39;00m\u001b[38;5;21;01mmod_stat\u001b[39;00m \u001b[38;5;28;01mimport\u001b[39;00m \u001b[38;5;241m*\u001b[39m\n\u001b[1;32m      5\u001b[0m \u001b[38;5;28;01mfrom\u001b[39;00m \u001b[38;5;21;01msrc\u001b[39;00m\u001b[38;5;21;01m.\u001b[39;00m\u001b[38;5;21;01mmod_spectral\u001b[39;00m \u001b[38;5;28;01mimport\u001b[39;00m \u001b[38;5;241m*\u001b[39m\n",
      "File \u001b[0;32m~/Documents/DataChallenges_testing/2023a_SSH_mapping_OSE/nb_diags_global/../src/mod_plot.py:2\u001b[0m\n\u001b[1;32m      1\u001b[0m \u001b[38;5;28;01mimport\u001b[39;00m \u001b[38;5;21;01mcartopy\u001b[39;00m\u001b[38;5;21;01m.\u001b[39;00m\u001b[38;5;21;01mcrs\u001b[39;00m \u001b[38;5;28;01mas\u001b[39;00m \u001b[38;5;21;01mccrs\u001b[39;00m\n\u001b[0;32m----> 2\u001b[0m \u001b[38;5;28;01mimport\u001b[39;00m \u001b[38;5;21;01mhvplot\u001b[39;00m\u001b[38;5;21;01m.\u001b[39;00m\u001b[38;5;21;01mxarray\u001b[39;00m\n\u001b[1;32m      3\u001b[0m \u001b[38;5;28;01mimport\u001b[39;00m \u001b[38;5;21;01mpandas\u001b[39;00m \u001b[38;5;28;01mas\u001b[39;00m \u001b[38;5;21;01mpd\u001b[39;00m\n\u001b[1;32m      4\u001b[0m \u001b[38;5;28;01mimport\u001b[39;00m \u001b[38;5;21;01mxarray\u001b[39;00m \u001b[38;5;28;01mas\u001b[39;00m \u001b[38;5;21;01mxr\u001b[39;00m\n",
      "File \u001b[0;32m~/miniconda3/envs/env-dc-swot-filtering/lib/python3.10/site-packages/hvplot/__init__.py:65\u001b[0m\n\u001b[1;32m     62\u001b[0m \u001b[38;5;28;01mimport\u001b[39;00m \u001b[38;5;21;01mtextwrap\u001b[39;00m\n\u001b[1;32m     64\u001b[0m \u001b[38;5;28;01mimport\u001b[39;00m \u001b[38;5;21;01mparam\u001b[39;00m\n\u001b[0;32m---> 65\u001b[0m \u001b[38;5;28;01mimport\u001b[39;00m \u001b[38;5;21;01mpanel\u001b[39;00m \u001b[38;5;28;01mas\u001b[39;00m \u001b[38;5;21;01m_pn\u001b[39;00m\n\u001b[1;32m     66\u001b[0m \u001b[38;5;28;01mimport\u001b[39;00m \u001b[38;5;21;01mholoviews\u001b[39;00m \u001b[38;5;28;01mas\u001b[39;00m \u001b[38;5;21;01m_hv\u001b[39;00m\n\u001b[1;32m     68\u001b[0m \u001b[38;5;28;01mfrom\u001b[39;00m \u001b[38;5;21;01mholoviews\u001b[39;00m \u001b[38;5;28;01mimport\u001b[39;00m Store, render  \u001b[38;5;66;03m# noqa\u001b[39;00m\n",
      "File \u001b[0;32m~/miniconda3/envs/env-dc-swot-filtering/lib/python3.10/site-packages/panel/__init__.py:50\u001b[0m\n\u001b[1;32m     48\u001b[0m \u001b[38;5;28;01mfrom\u001b[39;00m \u001b[38;5;21;01m.\u001b[39;00m \u001b[38;5;28;01mimport\u001b[39;00m layout  \u001b[38;5;66;03m# noqa\u001b[39;00m\n\u001b[1;32m     49\u001b[0m \u001b[38;5;28;01mfrom\u001b[39;00m \u001b[38;5;21;01m.\u001b[39;00m \u001b[38;5;28;01mimport\u001b[39;00m links  \u001b[38;5;66;03m# noqa\u001b[39;00m\n\u001b[0;32m---> 50\u001b[0m \u001b[38;5;28;01mfrom\u001b[39;00m \u001b[38;5;21;01m.\u001b[39;00m \u001b[38;5;28;01mimport\u001b[39;00m pane  \u001b[38;5;66;03m# noqa\u001b[39;00m\n\u001b[1;32m     51\u001b[0m \u001b[38;5;28;01mfrom\u001b[39;00m \u001b[38;5;21;01m.\u001b[39;00m \u001b[38;5;28;01mimport\u001b[39;00m param  \u001b[38;5;66;03m# noqa\u001b[39;00m\n\u001b[1;32m     52\u001b[0m \u001b[38;5;28;01mfrom\u001b[39;00m \u001b[38;5;21;01m.\u001b[39;00m \u001b[38;5;28;01mimport\u001b[39;00m pipeline  \u001b[38;5;66;03m# noqa\u001b[39;00m\n",
      "File \u001b[0;32m~/miniconda3/envs/env-dc-swot-filtering/lib/python3.10/site-packages/panel/pane/__init__.py:39\u001b[0m\n\u001b[1;32m     37\u001b[0m \u001b[38;5;28;01mfrom\u001b[39;00m \u001b[38;5;21;01m.\u001b[39;00m\u001b[38;5;21;01mecharts\u001b[39;00m \u001b[38;5;28;01mimport\u001b[39;00m ECharts  \u001b[38;5;66;03m# noqa\u001b[39;00m\n\u001b[1;32m     38\u001b[0m \u001b[38;5;28;01mfrom\u001b[39;00m \u001b[38;5;21;01m.\u001b[39;00m\u001b[38;5;21;01mequation\u001b[39;00m \u001b[38;5;28;01mimport\u001b[39;00m LaTeX  \u001b[38;5;66;03m# noqa\u001b[39;00m\n\u001b[0;32m---> 39\u001b[0m \u001b[38;5;28;01mfrom\u001b[39;00m \u001b[38;5;21;01m.\u001b[39;00m\u001b[38;5;21;01mholoviews\u001b[39;00m \u001b[38;5;28;01mimport\u001b[39;00m HoloViews, Interactive  \u001b[38;5;66;03m# noqa\u001b[39;00m\n\u001b[1;32m     40\u001b[0m \u001b[38;5;28;01mfrom\u001b[39;00m \u001b[38;5;21;01m.\u001b[39;00m\u001b[38;5;21;01midom\u001b[39;00m \u001b[38;5;28;01mimport\u001b[39;00m IDOM  \u001b[38;5;66;03m# noqa\u001b[39;00m\n\u001b[1;32m     41\u001b[0m \u001b[38;5;28;01mfrom\u001b[39;00m \u001b[38;5;21;01m.\u001b[39;00m\u001b[38;5;21;01mimage\u001b[39;00m \u001b[38;5;28;01mimport\u001b[39;00m (  \u001b[38;5;66;03m# noqa\u001b[39;00m\n\u001b[1;32m     42\u001b[0m     GIF, ICO, JPG, PDF, PNG, SVG,\n\u001b[1;32m     43\u001b[0m )\n",
      "File \u001b[0;32m~/miniconda3/envs/env-dc-swot-filtering/lib/python3.10/site-packages/panel/pane/holoviews.py:26\u001b[0m\n\u001b[1;32m     22\u001b[0m \u001b[38;5;28;01mfrom\u001b[39;00m \u001b[38;5;21;01m.\u001b[39;00m\u001b[38;5;21;01m.\u001b[39;00m\u001b[38;5;21;01mlayout\u001b[39;00m \u001b[38;5;28;01mimport\u001b[39;00m (\n\u001b[1;32m     23\u001b[0m     Column, HSpacer, Row, VSpacer, WidgetBox,\n\u001b[1;32m     24\u001b[0m )\n\u001b[1;32m     25\u001b[0m \u001b[38;5;28;01mfrom\u001b[39;00m \u001b[38;5;21;01m.\u001b[39;00m\u001b[38;5;21;01m.\u001b[39;00m\u001b[38;5;21;01mviewable\u001b[39;00m \u001b[38;5;28;01mimport\u001b[39;00m Layoutable, Viewable\n\u001b[0;32m---> 26\u001b[0m \u001b[38;5;28;01mfrom\u001b[39;00m \u001b[38;5;21;01m.\u001b[39;00m\u001b[38;5;21;01m.\u001b[39;00m\u001b[38;5;21;01mwidgets\u001b[39;00m \u001b[38;5;28;01mimport\u001b[39;00m Player\n\u001b[1;32m     27\u001b[0m \u001b[38;5;28;01mfrom\u001b[39;00m \u001b[38;5;21;01m.\u001b[39;00m\u001b[38;5;21;01mbase\u001b[39;00m \u001b[38;5;28;01mimport\u001b[39;00m Pane, PaneBase, RerenderError\n\u001b[1;32m     28\u001b[0m \u001b[38;5;28;01mfrom\u001b[39;00m \u001b[38;5;21;01m.\u001b[39;00m\u001b[38;5;21;01mplot\u001b[39;00m \u001b[38;5;28;01mimport\u001b[39;00m Bokeh, Matplotlib\n",
      "File \u001b[0;32m~/miniconda3/envs/env-dc-swot-filtering/lib/python3.10/site-packages/panel/widgets/__init__.py:57\u001b[0m\n\u001b[1;32m     51\u001b[0m \u001b[38;5;28;01mfrom\u001b[39;00m \u001b[38;5;21;01m.\u001b[39;00m\u001b[38;5;21;01mplayer\u001b[39;00m \u001b[38;5;28;01mimport\u001b[39;00m DiscretePlayer, Player  \u001b[38;5;66;03m# noqa\u001b[39;00m\n\u001b[1;32m     52\u001b[0m \u001b[38;5;28;01mfrom\u001b[39;00m \u001b[38;5;21;01m.\u001b[39;00m\u001b[38;5;21;01mselect\u001b[39;00m \u001b[38;5;28;01mimport\u001b[39;00m (  \u001b[38;5;66;03m# noqa\u001b[39;00m\n\u001b[1;32m     53\u001b[0m     AutocompleteInput, CheckBoxGroup, CheckButtonGroup, CrossSelector,\n\u001b[1;32m     54\u001b[0m     MultiChoice, MultiSelect, RadioBoxGroup, RadioButtonGroup, Select,\n\u001b[1;32m     55\u001b[0m     ToggleGroup,\n\u001b[1;32m     56\u001b[0m )\n\u001b[0;32m---> 57\u001b[0m \u001b[38;5;28;01mfrom\u001b[39;00m \u001b[38;5;21;01m.\u001b[39;00m\u001b[38;5;21;01mslider\u001b[39;00m \u001b[38;5;28;01mimport\u001b[39;00m (  \u001b[38;5;66;03m# noqa\u001b[39;00m\n\u001b[1;32m     58\u001b[0m     DateRangeSlider, DateSlider, DatetimeRangeSlider, DiscreteSlider,\n\u001b[1;32m     59\u001b[0m     EditableFloatSlider, EditableIntSlider, EditableRangeSlider, FloatSlider,\n\u001b[1;32m     60\u001b[0m     IntRangeSlider, IntSlider, RangeSlider,\n\u001b[1;32m     61\u001b[0m )\n\u001b[1;32m     62\u001b[0m \u001b[38;5;28;01mfrom\u001b[39;00m \u001b[38;5;21;01m.\u001b[39;00m\u001b[38;5;21;01mspeech_to_text\u001b[39;00m \u001b[38;5;28;01mimport\u001b[39;00m Grammar, GrammarList, SpeechToText  \u001b[38;5;66;03m# noqa\u001b[39;00m\n\u001b[1;32m     63\u001b[0m \u001b[38;5;28;01mfrom\u001b[39;00m \u001b[38;5;21;01m.\u001b[39;00m\u001b[38;5;21;01mtables\u001b[39;00m \u001b[38;5;28;01mimport\u001b[39;00m DataFrame, Tabulator  \u001b[38;5;66;03m# noqa\u001b[39;00m\n",
      "File \u001b[0;32m~/miniconda3/envs/env-dc-swot-filtering/lib/python3.10/site-packages/panel/widgets/slider.py:739\u001b[0m\n\u001b[1;32m    734\u001b[0m             msg[\u001b[38;5;124m'\u001b[39m\u001b[38;5;124mvalue_throttled\u001b[39m\u001b[38;5;124m'\u001b[39m] \u001b[38;5;241m=\u001b[39m (value_as_datetime(v1), value_as_datetime(v2))\n\u001b[1;32m    735\u001b[0m         \u001b[38;5;28;01mreturn\u001b[39;00m msg\n\u001b[0;32m--> 739\u001b[0m \u001b[38;5;28;01mclass\u001b[39;00m \u001b[38;5;21;01mDatetimeRangeSlider\u001b[39;00m(DateRangeSlider):\n\u001b[1;32m    741\u001b[0m \u001b[38;5;250m    \u001b[39m\u001b[38;5;124;03m\"\"\"\u001b[39;00m\n\u001b[1;32m    742\u001b[0m \u001b[38;5;124;03m    The DatetimeRangeSlider widget allows selecting a datetime range\u001b[39;00m\n\u001b[1;32m    743\u001b[0m \u001b[38;5;124;03m    using a slider with two handles. Supports datetime.datetime and\u001b[39;00m\n\u001b[0;32m   (...)\u001b[0m\n\u001b[1;32m    757\u001b[0m \u001b[38;5;124;03m    ... )\u001b[39;00m\n\u001b[1;32m    758\u001b[0m \u001b[38;5;124;03m    \"\"\"\u001b[39;00m\n\u001b[1;32m    760\u001b[0m     \u001b[38;5;129m@property\u001b[39m\n\u001b[1;32m    761\u001b[0m     \u001b[38;5;28;01mdef\u001b[39;00m \u001b[38;5;21m_widget_type\u001b[39m(\u001b[38;5;28mself\u001b[39m):\n",
      "File \u001b[0;32m~/miniconda3/envs/env-dc-swot-filtering/lib/python3.10/site-packages/param/parameterized.py:2695\u001b[0m, in \u001b[0;36mParameterizedMetaclass.__init__\u001b[0;34m(mcs, name, bases, dict_)\u001b[0m\n\u001b[1;32m   2692\u001b[0m mcs\u001b[38;5;241m.\u001b[39mparam\u001b[38;5;241m.\u001b[39m_depends \u001b[38;5;241m=\u001b[39m {\u001b[38;5;124m'\u001b[39m\u001b[38;5;124mwatch\u001b[39m\u001b[38;5;124m'\u001b[39m: _inherited\u001b[38;5;241m+\u001b[39m_watch}\n\u001b[1;32m   2694\u001b[0m \u001b[38;5;28;01mif\u001b[39;00m docstring_signature:\n\u001b[0;32m-> 2695\u001b[0m     \u001b[43mmcs\u001b[49m\u001b[38;5;241;43m.\u001b[39;49m\u001b[43m__class_docstring_signature\u001b[49m\u001b[43m(\u001b[49m\u001b[43m)\u001b[49m\n",
      "File \u001b[0;32m~/miniconda3/envs/env-dc-swot-filtering/lib/python3.10/site-packages/param/parameterized.py:2719\u001b[0m, in \u001b[0;36mParameterizedMetaclass.__class_docstring_signature\u001b[0;34m(mcs, max_repr_len)\u001b[0m\n\u001b[1;32m   2717\u001b[0m class_docstr \u001b[38;5;241m=\u001b[39m \u001b[38;5;124m\"\u001b[39m\u001b[38;5;130;01m\\n\u001b[39;00m\u001b[38;5;124m\"\u001b[39m\u001b[38;5;241m+\u001b[39mmcs\u001b[38;5;241m.\u001b[39m\u001b[38;5;18m__doc__\u001b[39m \u001b[38;5;28;01mif\u001b[39;00m mcs\u001b[38;5;241m.\u001b[39m\u001b[38;5;18m__doc__\u001b[39m \u001b[38;5;28;01melse\u001b[39;00m \u001b[38;5;124m'\u001b[39m\u001b[38;5;124m'\u001b[39m\n\u001b[1;32m   2718\u001b[0m signature \u001b[38;5;241m=\u001b[39m \u001b[38;5;124m\"\u001b[39m\u001b[38;5;124mparams(\u001b[39m\u001b[38;5;132;01m%s\u001b[39;00m\u001b[38;5;124m)\u001b[39m\u001b[38;5;124m\"\u001b[39m \u001b[38;5;241m%\u001b[39m (\u001b[38;5;124m\"\u001b[39m\u001b[38;5;124m, \u001b[39m\u001b[38;5;124m\"\u001b[39m\u001b[38;5;241m.\u001b[39mjoin(keywords))\n\u001b[0;32m-> 2719\u001b[0m description \u001b[38;5;241m=\u001b[39m \u001b[43mparam_pager\u001b[49m\u001b[43m(\u001b[49m\u001b[43mmcs\u001b[49m\u001b[43m)\u001b[49m \u001b[38;5;28;01mif\u001b[39;00m (docstring_describe_params \u001b[38;5;129;01mand\u001b[39;00m param_pager) \u001b[38;5;28;01melse\u001b[39;00m \u001b[38;5;124m'\u001b[39m\u001b[38;5;124m'\u001b[39m\n\u001b[1;32m   2720\u001b[0m mcs\u001b[38;5;241m.\u001b[39m\u001b[38;5;18m__doc__\u001b[39m \u001b[38;5;241m=\u001b[39m signature \u001b[38;5;241m+\u001b[39m class_docstr \u001b[38;5;241m+\u001b[39m \u001b[38;5;124m'\u001b[39m\u001b[38;5;130;01m\\n\u001b[39;00m\u001b[38;5;124m'\u001b[39m \u001b[38;5;241m+\u001b[39m description\n",
      "File \u001b[0;32m~/miniconda3/envs/env-dc-swot-filtering/lib/python3.10/site-packages/param/ipython.py:294\u001b[0m, in \u001b[0;36mParamPager.__call__\u001b[0;34m(self, param_obj)\u001b[0m\n\u001b[1;32m    289\u001b[0m     \u001b[38;5;28;01mreturn\u001b[39;00m \u001b[38;5;124m\"\u001b[39m\u001b[38;5;132;01m%s\u001b[39;00m\u001b[38;5;130;01m\\n\u001b[39;00m\u001b[38;5;132;01m%s\u001b[39;00m\u001b[38;5;124m\"\u001b[39m \u001b[38;5;241m%\u001b[39m ((green \u001b[38;5;241m%\u001b[39m heading_text), \u001b[38;5;124m\"\u001b[39m\u001b[38;5;124mObject has no parameters.\u001b[39m\u001b[38;5;124m\"\u001b[39m)\n\u001b[1;32m    291\u001b[0m table \u001b[38;5;241m=\u001b[39m \u001b[38;5;28mself\u001b[39m\u001b[38;5;241m.\u001b[39m_build_table(param_info, \u001b[38;5;28mself\u001b[39m\u001b[38;5;241m.\u001b[39morder, max_col_len\u001b[38;5;241m=\u001b[39m\u001b[38;5;241m40\u001b[39m,\n\u001b[1;32m    292\u001b[0m                           only_changed\u001b[38;5;241m=\u001b[39m\u001b[38;5;28;01mFalse\u001b[39;00m)\n\u001b[0;32m--> 294\u001b[0m docstrings \u001b[38;5;241m=\u001b[39m \u001b[38;5;28;43mself\u001b[39;49m\u001b[38;5;241;43m.\u001b[39;49m\u001b[43mparam_docstrings\u001b[49m\u001b[43m(\u001b[49m\u001b[43mparam_info\u001b[49m\u001b[43m,\u001b[49m\u001b[43m \u001b[49m\u001b[43mmax_col_len\u001b[49m\u001b[38;5;241;43m=\u001b[39;49m\u001b[38;5;241;43m100\u001b[39;49m\u001b[43m,\u001b[49m\u001b[43m \u001b[49m\u001b[43monly_changed\u001b[49m\u001b[38;5;241;43m=\u001b[39;49m\u001b[38;5;28;43;01mFalse\u001b[39;49;00m\u001b[43m)\u001b[49m\n\u001b[1;32m    295\u001b[0m dflt_msg \u001b[38;5;241m=\u001b[39m \u001b[38;5;124m\"\u001b[39m\u001b[38;5;124mParameters changed from their default values are marked in red.\u001b[39m\u001b[38;5;124m\"\u001b[39m\n\u001b[1;32m    296\u001b[0m top_heading \u001b[38;5;241m=\u001b[39m (green \u001b[38;5;241m%\u001b[39m heading_text)\n",
      "File \u001b[0;32m~/miniconda3/envs/env-dc-swot-filtering/lib/python3.10/site-packages/param/ipython.py:101\u001b[0m, in \u001b[0;36mParamPager.param_docstrings\u001b[0;34m(self, info, max_col_len, only_changed)\u001b[0m\n\u001b[1;32m     99\u001b[0m \u001b[38;5;28;01mfor\u001b[39;00m i, (name, p) \u001b[38;5;129;01min\u001b[39;00m \u001b[38;5;28menumerate\u001b[39m(displayed_params):\n\u001b[1;32m    100\u001b[0m     heading \u001b[38;5;241m=\u001b[39m \u001b[38;5;124m\"\u001b[39m\u001b[38;5;132;01m%s\u001b[39;00m\u001b[38;5;124m: \u001b[39m\u001b[38;5;124m\"\u001b[39m \u001b[38;5;241m%\u001b[39m name\n\u001b[0;32m--> 101\u001b[0m     unindented \u001b[38;5;241m=\u001b[39m \u001b[43mtextwrap\u001b[49m\u001b[38;5;241;43m.\u001b[39;49m\u001b[43mdedent\u001b[49m\u001b[43m(\u001b[49m\u001b[38;5;124;43m\"\u001b[39;49m\u001b[38;5;124;43m< No docstring available >\u001b[39;49m\u001b[38;5;124;43m\"\u001b[39;49m\u001b[43m \u001b[49m\u001b[38;5;28;43;01mif\u001b[39;49;00m\u001b[43m \u001b[49m\u001b[43mp\u001b[49m\u001b[38;5;241;43m.\u001b[39;49m\u001b[43mdoc\u001b[49m\u001b[43m \u001b[49m\u001b[38;5;129;43;01mis\u001b[39;49;00m\u001b[43m \u001b[49m\u001b[38;5;28;43;01mNone\u001b[39;49;00m\u001b[43m \u001b[49m\u001b[38;5;28;43;01melse\u001b[39;49;00m\u001b[43m \u001b[49m\u001b[43mp\u001b[49m\u001b[38;5;241;43m.\u001b[39;49m\u001b[43mdoc\u001b[49m\u001b[43m)\u001b[49m\n\u001b[1;32m    103\u001b[0m     \u001b[38;5;28;01mif\u001b[39;00m (WARN_MISFORMATTED_DOCSTRINGS\n\u001b[1;32m    104\u001b[0m         \u001b[38;5;129;01mand\u001b[39;00m \u001b[38;5;129;01mnot\u001b[39;00m unindented\u001b[38;5;241m.\u001b[39mstartswith(\u001b[38;5;124m\"\u001b[39m\u001b[38;5;130;01m\\n\u001b[39;00m\u001b[38;5;124m\"\u001b[39m)  \u001b[38;5;129;01mand\u001b[39;00m \u001b[38;5;28mlen\u001b[39m(unindented\u001b[38;5;241m.\u001b[39msplitlines()) \u001b[38;5;241m>\u001b[39m \u001b[38;5;241m1\u001b[39m):\n\u001b[1;32m    105\u001b[0m         param\u001b[38;5;241m.\u001b[39mmain\u001b[38;5;241m.\u001b[39mwarning(\u001b[38;5;124m\"\u001b[39m\u001b[38;5;124mMulti-line docstring for \u001b[39m\u001b[38;5;132;01m%r\u001b[39;00m\u001b[38;5;124m is incorrectly formatted \u001b[39m\u001b[38;5;124m\"\u001b[39m\n\u001b[1;32m    106\u001b[0m                            \u001b[38;5;124m\"\u001b[39m\u001b[38;5;124m (should start with newline)\u001b[39m\u001b[38;5;124m\"\u001b[39m, name)\n",
      "File \u001b[0;32m~/miniconda3/envs/env-dc-swot-filtering/lib/python3.10/textwrap.py:469\u001b[0m, in \u001b[0;36mdedent\u001b[0;34m(text)\u001b[0m\n\u001b[1;32m    465\u001b[0m         \u001b[38;5;28;01massert\u001b[39;00m \u001b[38;5;129;01mnot\u001b[39;00m line \u001b[38;5;129;01mor\u001b[39;00m line\u001b[38;5;241m.\u001b[39mstartswith(margin), \\\n\u001b[1;32m    466\u001b[0m                \u001b[38;5;124m\"\u001b[39m\u001b[38;5;124mline = \u001b[39m\u001b[38;5;132;01m%r\u001b[39;00m\u001b[38;5;124m, margin = \u001b[39m\u001b[38;5;132;01m%r\u001b[39;00m\u001b[38;5;124m\"\u001b[39m \u001b[38;5;241m%\u001b[39m (line, margin)\n\u001b[1;32m    468\u001b[0m \u001b[38;5;28;01mif\u001b[39;00m margin:\n\u001b[0;32m--> 469\u001b[0m     text \u001b[38;5;241m=\u001b[39m \u001b[43mre\u001b[49m\u001b[38;5;241;43m.\u001b[39;49m\u001b[43msub\u001b[49m\u001b[43m(\u001b[49m\u001b[38;5;124;43mr\u001b[39;49m\u001b[38;5;124;43m'\u001b[39;49m\u001b[38;5;124;43m(?m)^\u001b[39;49m\u001b[38;5;124;43m'\u001b[39;49m\u001b[43m \u001b[49m\u001b[38;5;241;43m+\u001b[39;49m\u001b[43m \u001b[49m\u001b[43mmargin\u001b[49m\u001b[43m,\u001b[49m\u001b[43m \u001b[49m\u001b[38;5;124;43m'\u001b[39;49m\u001b[38;5;124;43m'\u001b[39;49m\u001b[43m,\u001b[49m\u001b[43m \u001b[49m\u001b[43mtext\u001b[49m\u001b[43m)\u001b[49m\n\u001b[1;32m    470\u001b[0m \u001b[38;5;28;01mreturn\u001b[39;00m text\n",
      "File \u001b[0;32m~/miniconda3/envs/env-dc-swot-filtering/lib/python3.10/re.py:209\u001b[0m, in \u001b[0;36msub\u001b[0;34m(pattern, repl, string, count, flags)\u001b[0m\n\u001b[1;32m    202\u001b[0m \u001b[38;5;28;01mdef\u001b[39;00m \u001b[38;5;21msub\u001b[39m(pattern, repl, string, count\u001b[38;5;241m=\u001b[39m\u001b[38;5;241m0\u001b[39m, flags\u001b[38;5;241m=\u001b[39m\u001b[38;5;241m0\u001b[39m):\n\u001b[1;32m    203\u001b[0m \u001b[38;5;250m    \u001b[39m\u001b[38;5;124;03m\"\"\"Return the string obtained by replacing the leftmost\u001b[39;00m\n\u001b[1;32m    204\u001b[0m \u001b[38;5;124;03m    non-overlapping occurrences of the pattern in string by the\u001b[39;00m\n\u001b[1;32m    205\u001b[0m \u001b[38;5;124;03m    replacement repl.  repl can be either a string or a callable;\u001b[39;00m\n\u001b[1;32m    206\u001b[0m \u001b[38;5;124;03m    if a string, backslash escapes in it are processed.  If it is\u001b[39;00m\n\u001b[1;32m    207\u001b[0m \u001b[38;5;124;03m    a callable, it's passed the Match object and must return\u001b[39;00m\n\u001b[1;32m    208\u001b[0m \u001b[38;5;124;03m    a replacement string to be used.\"\"\"\u001b[39;00m\n\u001b[0;32m--> 209\u001b[0m     \u001b[38;5;28;01mreturn\u001b[39;00m \u001b[43m_compile\u001b[49m\u001b[43m(\u001b[49m\u001b[43mpattern\u001b[49m\u001b[43m,\u001b[49m\u001b[43m \u001b[49m\u001b[43mflags\u001b[49m\u001b[43m)\u001b[49m\u001b[38;5;241;43m.\u001b[39;49m\u001b[43msub\u001b[49m\u001b[43m(\u001b[49m\u001b[43mrepl\u001b[49m\u001b[43m,\u001b[49m\u001b[43m \u001b[49m\u001b[43mstring\u001b[49m\u001b[43m,\u001b[49m\u001b[43m \u001b[49m\u001b[43mcount\u001b[49m\u001b[43m)\u001b[49m\n",
      "\u001b[0;31mKeyboardInterrupt\u001b[0m: "
     ]
    }
   ],
   "source": [
    "import sys\n",
    "sys.path.append('..')\n",
    "from src.mod_plot import *\n",
    "from src.mod_stat import *\n",
    "from src.mod_spectral import *"
   ]
  },
  {
   "cell_type": "code",
   "execution_count": null,
   "id": "57791822",
   "metadata": {},
   "outputs": [],
   "source": [
    "import logging\n",
    "logger = logging.getLogger()\n",
    "logger.setLevel(logging.INFO)"
   ]
  },
  {
   "cell_type": "markdown",
   "id": "cbf31c1a",
   "metadata": {},
   "source": [
    "<div class=\"alert alert-info\" role=\"alert\">\n",
    "\n",
    "<h2>0. Parameters</h2>\n",
    "\n",
    "</div>"
   ]
  },
  {
   "cell_type": "code",
   "execution_count": null,
   "id": "45783856",
   "metadata": {},
   "outputs": [],
   "source": [
    "time_min = '2019-01-01'                                        # time min for analysis\n",
    "time_max = '2019-12-31'                                        # time max for analysis\n",
    "output_dir = '../results'                                      # output directory path\n",
    "os.system(f'mkdir -p {output_dir}')\n",
    "method_name='DUACS'\n",
    "stat_output_filename = f'{output_dir}/stat_uv_duacs_geos.nc'   # output statistical analysis filename\n",
    "psd_output_filename = f'{output_dir}/psd_uv_duacs_geos.nc'     # output spectral analysis filename\n",
    "segment_lenght = np.timedelta64(40, 'D')                      # spectral parameter: drifters segment lenght in days to consider in the spectral analysis"
   ]
  },
  {
   "cell_type": "markdown",
   "id": "81b776e4",
   "metadata": {},
   "source": [
    "<div class=\"alert alert-info\" role=\"alert\">\n",
    "\n",
    "<h2>1. Input files</h2>\n",
    "\n",
    "</div>"
   ]
  },
  {
   "cell_type": "markdown",
   "id": "8ca9a63f",
   "metadata": {},
   "source": [
    "## [Sea Surface currents from Drifters database](https://doi.org/10.17882/86236)"
   ]
  },
  {
   "cell_type": "code",
   "execution_count": null,
   "id": "51f7ab93",
   "metadata": {},
   "outputs": [],
   "source": [
    "filenames_drifters = sorted(glob('../data/independent_drifters/uv_drifters_*.nc'))"
   ]
  },
  {
   "cell_type": "code",
   "execution_count": null,
   "id": "69bff771",
   "metadata": {},
   "outputs": [],
   "source": [
    "ds_drifter = xr.open_mfdataset(filenames_drifters, combine='nested', concat_dim='time')\n",
    "ds_drifter = ds_drifter.where((ds_drifter.time >= np.datetime64(time_min)) & (ds_drifter.time <=  np.datetime64(time_max)), drop=True)\n",
    "ds_drifter"
   ]
  },
  {
   "cell_type": "markdown",
   "id": "273fd158",
   "metadata": {},
   "source": [
    "## Sea Surface current maps to evaluate"
   ]
  },
  {
   "cell_type": "code",
   "execution_count": null,
   "id": "895313a2",
   "metadata": {},
   "outputs": [],
   "source": [
    "list_of_maps = sorted(glob('../data/maps/DUACS_global_allsat-alg/*.nc'))\n",
    "ds_maps = xr.open_mfdataset(list_of_maps, combine='nested', concat_dim='time')\n",
    "ds_maps = ds_maps.sel(time=slice(time_min, time_max))\n",
    "ds_maps"
   ]
  },
  {
   "cell_type": "markdown",
   "id": "be82a3dc",
   "metadata": {},
   "source": [
    "<div class=\"alert alert-info\" role=\"alert\">\n",
    "\n",
    "<h2>2. Statistical & Spectral Analysis </h2>\n",
    "\n",
    "</div>"
   ]
  },
  {
   "cell_type": "markdown",
   "id": "2e5e1875",
   "metadata": {},
   "source": [
    "## 2.1 Interpolate sea surface currents maps onto drifters positions"
   ]
  },
  {
   "cell_type": "code",
   "execution_count": null,
   "id": "0c01bb42",
   "metadata": {},
   "outputs": [],
   "source": [
    "ds_interp = run_interpolation_drifters(ds_maps, ds_drifter, time_min, time_max)\n",
    "ds_interp = ds_interp.dropna('time')\n",
    "ds_interp = ds_interp.sortby('time')\n",
    "ds_interp"
   ]
  },
  {
   "cell_type": "markdown",
   "id": "9ca23021",
   "metadata": {},
   "source": [
    "## 2.2 Compute grid boxes statistics & statistics by regime (coastal, offshore low variability, offshore high variability)"
   ]
  },
  {
   "cell_type": "markdown",
   "id": "044093d5",
   "metadata": {},
   "source": [
    "Once the surface currents maps have been interpolated to the position of the drifters, it is possible to calculate different statistics on the time series of zonal and meridional velocities. \n",
    "\n",
    "We propose below the following statistics: error variance maps (static by 1°x1° box), explained variance maps. "
   ]
  },
  {
   "cell_type": "code",
   "execution_count": null,
   "id": "eb527f0d",
   "metadata": {},
   "outputs": [],
   "source": [
    "# Compute gridded stats\n",
    "compute_stat_scores_uv(ds_interp, stat_output_filename,method_name=method_name)"
   ]
  },
  {
   "cell_type": "code",
   "execution_count": null,
   "id": "48d9982e",
   "metadata": {},
   "outputs": [],
   "source": [
    "# Plot gridded stats\n",
    "# Hvplot\n",
    "# plot_stat_score_map_uv(stat_output_filename)\n",
    "# Matplotlib\n",
    "plot_stat_score_map_uv_png(stat_output_filename)"
   ]
  },
  {
   "cell_type": "markdown",
   "id": "53742a67",
   "metadata": {},
   "source": [
    "The figure shows that the maximum mapping errors are found in intense current systems, for example in the GulfStream, Kuroshio and Agulhas regions. \n",
    "\n",
    "However, when considering the full scale of motion in the drifter database, the surface current maps capture up to 80% of the variability of drifter currents in the Western Boundary Currents and Antarctic Circumpolar Currents (ACC). The geostrophic signal dominates the ageostrophic signal in these regions. In regions with low ocean variability, only a few percent of the total drifter current variability is recovered in the maps, which may be associated with a larger ageostrophic signal in these regions."
   ]
  },
  {
   "cell_type": "code",
   "execution_count": null,
   "id": "9da23320",
   "metadata": {},
   "outputs": [],
   "source": [
    "plot_stat_uv_by_regimes(stat_output_filename)"
   ]
  },
  {
   "cell_type": "markdown",
   "id": "5496b572",
   "metadata": {},
   "source": [
    "## 2.4 Compute Spectral scores"
   ]
  },
  {
   "cell_type": "code",
   "execution_count": null,
   "id": "d6524d38",
   "metadata": {},
   "outputs": [],
   "source": [
    "# Compute PSD scores\n",
    "compute_psd_scores_current(ds_interp, psd_output_filename, lenght_scale=segment_lenght,method_name=method_name)"
   ]
  },
  {
   "cell_type": "code",
   "execution_count": null,
   "id": "9443e971",
   "metadata": {},
   "outputs": [],
   "source": [
    "# Plot Zonally averaged rotary spectra\n",
    "# Hvplot\n",
    "# plot_psd_scores_currents(psd_output_filename)\n",
    "# Matplotlib\n",
    "plot_psd_scores_currents_png(psd_output_filename)"
   ]
  },
  {
   "cell_type": "code",
   "execution_count": null,
   "id": "1f83aeb0",
   "metadata": {},
   "outputs": [],
   "source": [
    "# Plot Zonally averaged rotary spectra\n",
    "plot_psd_scores_currents_1D(psd_output_filename)"
   ]
  },
  {
   "cell_type": "markdown",
   "id": "f3bec615",
   "metadata": {},
   "source": [
    "The interactive plot above allows you to explore the spectral metrics by latitude band"
   ]
  },
  {
   "cell_type": "code",
   "execution_count": null,
   "id": "a202e4f5",
   "metadata": {},
   "outputs": [],
   "source": []
  }
 ],
 "metadata": {
  "kernelspec": {
   "display_name": "env-dc-swot-filtering",
   "language": "python",
   "name": "env-dc-swot-filtering"
  },
  "language_info": {
   "codemirror_mode": {
    "name": "ipython",
    "version": 3
   },
   "file_extension": ".py",
   "mimetype": "text/x-python",
   "name": "python",
   "nbconvert_exporter": "python",
   "pygments_lexer": "ipython3",
   "version": "3.10.11"
  }
 },
 "nbformat": 4,
 "nbformat_minor": 5
}
